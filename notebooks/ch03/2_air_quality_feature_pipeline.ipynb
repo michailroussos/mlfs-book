{
 "cells": [
  {
   "cell_type": "markdown",
   "id": "a9e46aad",
   "metadata": {},
   "source": [
    "<span style=\"font-width:bold; font-size: 3rem; color:#333;\">- Part 02: Daily Feature Pipeline for Air Quality (aqicn.org) and weather (openmeteo)</span>\n",
    "\n",
    "## 🗒️ This notebook is divided into the following sections:\n",
    "1. Download and Parse Data\n",
    "2. Feature Group Insertion\n",
    "\n",
    "\n",
    "__This notebook should be scheduled to run daily__\n",
    "\n",
    "In the book, we use a GitHub Action stored here:\n",
    "[.github/workflows/air-quality-daily.yml](https://github.com/featurestorebook/mlfs-book/blob/main/.github/workflows/air-quality-daily.yml)\n",
    "\n",
    "However, you are free to use any Python Orchestration tool to schedule this program to run daily."
   ]
  },
  {
   "cell_type": "markdown",
   "id": "cfe638c6",
   "metadata": {},
   "source": [
    "### <span style='color:#ff5f27'> 📝 Imports"
   ]
  },
  {
   "cell_type": "code",
   "execution_count": 1,
   "id": "7de2e93a",
   "metadata": {},
   "outputs": [],
   "source": [
    "import datetime\n",
    "import time\n",
    "import requests\n",
    "import pandas as pd\n",
    "import hopsworks\n",
    "from functions import util\n",
    "import json\n",
    "import os\n",
    "import warnings\n",
    "warnings.filterwarnings(\"ignore\")"
   ]
  },
  {
   "cell_type": "markdown",
   "id": "da6081d1",
   "metadata": {},
   "source": [
    "## <span style='color:#ff5f27'> 🌍 Get the Sensor URL, Country, City, Street names from Hopsworks </span>\n",
    "\n",
    "__Update the values in the cell below.__\n",
    "\n",
    "__These should be the same values as in notebook 1 - the feature backfill notebook__\n"
   ]
  },
  {
   "cell_type": "code",
   "execution_count": 2,
   "id": "b70cd57d",
   "metadata": {
    "tags": []
   },
   "outputs": [
    {
     "name": "stdout",
     "output_type": "stream",
     "text": [
      "Connected. Call `.close()` to terminate connection gracefully.\n",
      "\n",
      "Logged in to project, explore it here https://c.app.hopsworks.ai:443/p/1160346\n",
      "Connected. Call `.close()` to terminate connection gracefully.\n",
      "api_key Cb8CiaFgAoUlV4T2.tO0KdAOtLLI3QDUXbSjQqqDnsfTWcoIdbMYpbLoW7lbAiqYXunzildhVmQhjfbCd\n",
      "Connected. Call `.close()` to terminate connection gracefully.\n"
     ]
    },
    {
     "data": {
      "text/plain": [
       "'{\"country\": \"greece\", \"city\": \"athens\", \"street\": \"aristotelous\", \"aqicn_url\": \"https://api.waqi.info/feed/@12414\", \"latitude\": 33.96, \"longitude\": -83.38}'"
      ]
     },
     "execution_count": 2,
     "metadata": {},
     "output_type": "execute_result"
    }
   ],
   "source": [
    "# If you haven't set the env variable 'HOPSWORKS_API_KEY', then uncomment the next line and enter your API key\n",
<<<<<<< HEAD
<<<<<<< HEAD
    "#with open('../../data/hopsworks-api-key.txt', 'r') as file:\n",
    "#    os.environ[\"HOPSWORKS_API_KEY\"] = file.read().rstrip()\n",
=======
    "with open('../../data/hopsworks-api-key.txt', 'r') as file:\n",
    "    os.environ[\"HOPSWORKS_API_KEY\"] = file.read().rstrip()\n",
>>>>>>> ed194af (everything is running here! be sure to update hopsworks-api-key.txt file)
=======
    "#with open('../../data/hopsworks-api-key.txt', 'r') as file:\n",
    "#    os.environ[\"HOPSWORKS_API_KEY\"] = file.read().rstrip()\n",
>>>>>>> cc108af (removed the manual setting of the Hopsworks key.)
    "\n",
    "project = hopsworks.login()\n",
    "fs = project.get_feature_store() \n",
    "secrets = util.secrets_api(project.name)\n",
    "\n",
    "# This line will fail if you have not registered the AQI_API_KEY as a secret in Hopsworks\n",
    "AQI_API_KEY = secrets.get_secret(\"AQI_API_KEY\").value\n",
    "location_str = secrets.get_secret(\"SENSOR_LOCATION_JSON\").value\n",
    "location = json.loads(location_str)\n",
    "\n",
    "country=location['country']\n",
    "city=location['city']\n",
    "street=location['street']\n",
    "aqicn_url=location['aqicn_url']\n",
    "latitude=location['latitude']\n",
    "longitude=location['longitude']\n",
    "\n",
    "today = datetime.date.today()\n",
    "\n",
    "location_str"
   ]
  },
  {
   "cell_type": "markdown",
   "id": "2caf9289",
   "metadata": {},
   "source": [
    "### <span style=\"color:#ff5f27;\"> 🔮 Get references to the Feature Groups </span>"
   ]
  },
  {
   "cell_type": "code",
   "execution_count": 3,
   "id": "66f5d7d5",
   "metadata": {},
   "outputs": [],
   "source": [
    "# Retrieve feature groups\n",
    "air_quality_fg = fs.get_feature_group(\n",
    "    name='air_quality',\n",
    "    version=1,\n",
    ")\n",
    "weather_fg = fs.get_feature_group(\n",
    "    name='weather',\n",
    "    version=1,\n",
    ")"
   ]
  },
  {
   "cell_type": "markdown",
   "id": "e10b6ce8",
   "metadata": {},
   "source": [
    "---"
   ]
  },
  {
   "cell_type": "markdown",
   "id": "1a7ffa41",
   "metadata": {},
   "source": [
    "## <span style='color:#ff5f27'> 🌫 Retrieve Today's Air Quality data (PM2.5) from the AQI API</span>\n"
   ]
  },
  {
   "cell_type": "code",
   "execution_count": 4,
   "id": "6f681af6",
   "metadata": {},
   "outputs": [
    {
     "data": {
      "text/html": [
       "<div>\n",
       "<style scoped>\n",
       "    .dataframe tbody tr th:only-of-type {\n",
       "        vertical-align: middle;\n",
       "    }\n",
       "\n",
       "    .dataframe tbody tr th {\n",
       "        vertical-align: top;\n",
       "    }\n",
       "\n",
       "    .dataframe thead th {\n",
       "        text-align: right;\n",
       "    }\n",
       "</style>\n",
       "<table border=\"1\" class=\"dataframe\">\n",
       "  <thead>\n",
       "    <tr style=\"text-align: right;\">\n",
       "      <th></th>\n",
       "      <th>pm25</th>\n",
       "      <th>country</th>\n",
       "      <th>city</th>\n",
       "      <th>street</th>\n",
       "      <th>date</th>\n",
       "      <th>url</th>\n",
       "    </tr>\n",
       "  </thead>\n",
       "  <tbody>\n",
       "    <tr>\n",
       "      <th>0</th>\n",
<<<<<<< HEAD
<<<<<<< HEAD
       "      <td>34.0</td>\n",
=======
       "      <td>42.0</td>\n",
>>>>>>> ed194af (everything is running here! be sure to update hopsworks-api-key.txt file)
=======
       "      <td>34.0</td>\n",
>>>>>>> cc108af (removed the manual setting of the Hopsworks key.)
       "      <td>greece</td>\n",
       "      <td>athens</td>\n",
       "      <td>aristotelous</td>\n",
       "      <td>2024-11-09</td>\n",
       "      <td>https://api.waqi.info/feed/@12414</td>\n",
       "    </tr>\n",
       "  </tbody>\n",
       "</table>\n",
       "</div>"
      ],
      "text/plain": [
       "   pm25 country    city        street       date  \\\n",
<<<<<<< HEAD
<<<<<<< HEAD
       "0  34.0  greece  athens  aristotelous 2024-11-09   \n",
=======
       "0  42.0  greece  athens  aristotelous 2024-11-09   \n",
>>>>>>> ed194af (everything is running here! be sure to update hopsworks-api-key.txt file)
=======
       "0  34.0  greece  athens  aristotelous 2024-11-09   \n",
>>>>>>> cc108af (removed the manual setting of the Hopsworks key.)
       "\n",
       "                                 url  \n",
       "0  https://api.waqi.info/feed/@12414  "
      ]
     },
     "execution_count": 4,
     "metadata": {},
     "output_type": "execute_result"
    }
   ],
   "source": [
    "import requests\n",
    "import pandas as pd\n",
    "\n",
    "aq_today_df = util.get_pm25(aqicn_url, country, city, street, today, AQI_API_KEY)\n",
    "aq_today_df"
   ]
  },
  {
   "cell_type": "code",
   "execution_count": 5,
   "id": "b9e24eda",
   "metadata": {},
   "outputs": [
    {
     "name": "stdout",
     "output_type": "stream",
     "text": [
      "<class 'pandas.core.frame.DataFrame'>\n",
      "RangeIndex: 1 entries, 0 to 0\n",
      "Data columns (total 6 columns):\n",
      " #   Column   Non-Null Count  Dtype         \n",
      "---  ------   --------------  -----         \n",
      " 0   pm25     1 non-null      float32       \n",
      " 1   country  1 non-null      object        \n",
      " 2   city     1 non-null      object        \n",
      " 3   street   1 non-null      object        \n",
      " 4   date     1 non-null      datetime64[ns]\n",
      " 5   url      1 non-null      object        \n",
      "dtypes: datetime64[ns](1), float32(1), object(4)\n",
      "memory usage: 176.0+ bytes\n"
     ]
    }
   ],
   "source": [
    "aq_today_df.info()"
   ]
  },
  {
   "cell_type": "markdown",
   "id": "af845ab6",
   "metadata": {},
   "source": [
    "## <span style='color:#ff5f27'> 🌦 Get Weather Forecast data</span>"
   ]
  },
  {
   "cell_type": "code",
   "execution_count": 6,
   "id": "d2ecb3e7",
   "metadata": {},
   "outputs": [
    {
     "name": "stdout",
     "output_type": "stream",
     "text": [
      "Coordinates 34.0°N -83.5°E\n",
      "Elevation 220.0 m asl\n",
      "Timezone None None\n",
      "Timezone difference to GMT+0 0 s\n"
     ]
    },
    {
     "data": {
      "text/html": [
       "<div>\n",
       "<style scoped>\n",
       "    .dataframe tbody tr th:only-of-type {\n",
       "        vertical-align: middle;\n",
       "    }\n",
       "\n",
       "    .dataframe tbody tr th {\n",
       "        vertical-align: top;\n",
       "    }\n",
       "\n",
       "    .dataframe thead th {\n",
       "        text-align: right;\n",
       "    }\n",
       "</style>\n",
       "<table border=\"1\" class=\"dataframe\">\n",
       "  <thead>\n",
       "    <tr style=\"text-align: right;\">\n",
       "      <th></th>\n",
       "      <th>date</th>\n",
       "      <th>temperature_2m_mean</th>\n",
       "      <th>precipitation_sum</th>\n",
       "      <th>wind_speed_10m_max</th>\n",
       "      <th>wind_direction_10m_dominant</th>\n",
       "      <th>city</th>\n",
       "    </tr>\n",
       "  </thead>\n",
       "  <tbody>\n",
       "    <tr>\n",
       "      <th>0</th>\n",
       "      <td>2024-11-09</td>\n",
       "      <td>17.10</td>\n",
       "      <td>0.0</td>\n",
       "      <td>9.793059</td>\n",
       "      <td>53.972538</td>\n",
       "      <td>athens</td>\n",
       "    </tr>\n",
       "    <tr>\n",
       "      <th>1</th>\n",
       "      <td>2024-11-10</td>\n",
       "      <td>11.70</td>\n",
       "      <td>0.5</td>\n",
       "      <td>11.304229</td>\n",
       "      <td>52.765083</td>\n",
       "      <td>athens</td>\n",
       "    </tr>\n",
       "    <tr>\n",
       "      <th>2</th>\n",
       "      <td>2024-11-11</td>\n",
       "      <td>14.65</td>\n",
       "      <td>1.5</td>\n",
       "      <td>3.319036</td>\n",
       "      <td>77.471199</td>\n",
       "      <td>athens</td>\n",
       "    </tr>\n",
       "    <tr>\n",
       "      <th>3</th>\n",
       "      <td>2024-11-12</td>\n",
       "      <td>9.10</td>\n",
       "      <td>0.0</td>\n",
       "      <td>5.040000</td>\n",
       "      <td>360.000000</td>\n",
       "      <td>athens</td>\n",
       "    </tr>\n",
       "    <tr>\n",
       "      <th>4</th>\n",
       "      <td>2024-11-13</td>\n",
       "      <td>8.35</td>\n",
       "      <td>0.0</td>\n",
       "      <td>12.768586</td>\n",
       "      <td>68.498505</td>\n",
       "      <td>athens</td>\n",
       "    </tr>\n",
       "    <tr>\n",
       "      <th>5</th>\n",
       "      <td>2024-11-14</td>\n",
       "      <td>6.10</td>\n",
       "      <td>0.0</td>\n",
       "      <td>3.976330</td>\n",
       "      <td>275.194336</td>\n",
       "      <td>athens</td>\n",
       "    </tr>\n",
       "    <tr>\n",
       "      <th>6</th>\n",
       "      <td>2024-11-15</td>\n",
       "      <td>5.85</td>\n",
       "      <td>0.0</td>\n",
       "      <td>7.993297</td>\n",
       "      <td>324.162262</td>\n",
       "      <td>athens</td>\n",
       "    </tr>\n",
       "    <tr>\n",
       "      <th>7</th>\n",
       "      <td>2024-11-16</td>\n",
       "      <td>4.55</td>\n",
       "      <td>0.0</td>\n",
       "      <td>9.686609</td>\n",
       "      <td>311.987122</td>\n",
       "      <td>athens</td>\n",
       "    </tr>\n",
       "    <tr>\n",
       "      <th>8</th>\n",
       "      <td>2024-11-17</td>\n",
       "      <td>6.50</td>\n",
       "      <td>0.0</td>\n",
       "      <td>4.693825</td>\n",
       "      <td>355.601379</td>\n",
       "      <td>athens</td>\n",
       "    </tr>\n",
       "    <tr>\n",
       "      <th>9</th>\n",
       "      <td>2024-11-18</td>\n",
       "      <td>8.70</td>\n",
       "      <td>0.0</td>\n",
       "      <td>2.036468</td>\n",
       "      <td>315.000092</td>\n",
       "      <td>athens</td>\n",
       "    </tr>\n",
       "  </tbody>\n",
       "</table>\n",
       "</div>"
      ],
      "text/plain": [
       "        date  temperature_2m_mean  precipitation_sum  wind_speed_10m_max  \\\n",
       "0 2024-11-09                17.10                0.0            9.793059   \n",
       "1 2024-11-10                11.70                0.5           11.304229   \n",
       "2 2024-11-11                14.65                1.5            3.319036   \n",
       "3 2024-11-12                 9.10                0.0            5.040000   \n",
       "4 2024-11-13                 8.35                0.0           12.768586   \n",
       "5 2024-11-14                 6.10                0.0            3.976330   \n",
       "6 2024-11-15                 5.85                0.0            7.993297   \n",
       "7 2024-11-16                 4.55                0.0            9.686609   \n",
       "8 2024-11-17                 6.50                0.0            4.693825   \n",
       "9 2024-11-18                 8.70                0.0            2.036468   \n",
       "\n",
       "   wind_direction_10m_dominant    city  \n",
       "0                    53.972538  athens  \n",
       "1                    52.765083  athens  \n",
       "2                    77.471199  athens  \n",
       "3                   360.000000  athens  \n",
       "4                    68.498505  athens  \n",
       "5                   275.194336  athens  \n",
       "6                   324.162262  athens  \n",
       "7                   311.987122  athens  \n",
       "8                   355.601379  athens  \n",
       "9                   315.000092  athens  "
      ]
     },
     "execution_count": 6,
     "metadata": {},
     "output_type": "execute_result"
    }
   ],
   "source": [
    "hourly_df = util.get_hourly_weather_forecast(city, latitude, longitude)\n",
    "hourly_df = hourly_df.set_index('date')\n",
    "\n",
    "# We will only make 1 daily prediction, so we will replace the hourly forecasts with a single daily forecast\n",
    "# We only want the daily weather data, so only get weather at 12:00\n",
    "daily_df = hourly_df.between_time('11:59', '12:01')\n",
    "daily_df = daily_df.reset_index()\n",
    "daily_df['date'] = pd.to_datetime(daily_df['date']).dt.date\n",
    "daily_df['date'] = pd.to_datetime(daily_df['date'])\n",
    "daily_df['city'] = city\n",
    "daily_df"
   ]
  },
  {
   "cell_type": "code",
   "execution_count": 7,
   "id": "4c563109",
   "metadata": {},
   "outputs": [
    {
     "name": "stdout",
     "output_type": "stream",
     "text": [
      "<class 'pandas.core.frame.DataFrame'>\n",
      "RangeIndex: 10 entries, 0 to 9\n",
      "Data columns (total 6 columns):\n",
      " #   Column                       Non-Null Count  Dtype         \n",
      "---  ------                       --------------  -----         \n",
      " 0   date                         10 non-null     datetime64[ns]\n",
      " 1   temperature_2m_mean          10 non-null     float32       \n",
      " 2   precipitation_sum            10 non-null     float32       \n",
      " 3   wind_speed_10m_max           10 non-null     float32       \n",
      " 4   wind_direction_10m_dominant  10 non-null     float32       \n",
      " 5   city                         10 non-null     object        \n",
      "dtypes: datetime64[ns](1), float32(4), object(1)\n",
      "memory usage: 452.0+ bytes\n"
     ]
    }
   ],
   "source": [
    "daily_df.info()"
   ]
  },
  {
   "cell_type": "markdown",
   "id": "4e1f5008",
   "metadata": {
    "tags": []
   },
   "source": [
    "## <span style=\"color:#ff5f27;\">⬆️ Uploading new data to the Feature Store</span>"
   ]
  },
  {
   "cell_type": "code",
   "execution_count": 8,
   "id": "1a9de5ba",
   "metadata": {},
   "outputs": [
    {
     "name": "stdout",
     "output_type": "stream",
     "text": [
<<<<<<< HEAD
<<<<<<< HEAD
      "2024-11-09 20:44:29,678 INFO: \t1 expectation(s) included in expectation_suite.\n",
=======
      "2024-11-09 15:56:55,147 INFO: \t1 expectation(s) included in expectation_suite.\n",
>>>>>>> ed194af (everything is running here! be sure to update hopsworks-api-key.txt file)
=======
      "2024-11-09 20:44:29,678 INFO: \t1 expectation(s) included in expectation_suite.\n",
>>>>>>> cc108af (removed the manual setting of the Hopsworks key.)
      "Validation succeeded.\n",
      "Validation Report saved successfully, explore a summary at https://c.app.hopsworks.ai:443/p/1160346/fs/1151049/fg/1340782\n"
     ]
    },
    {
     "data": {
      "application/vnd.jupyter.widget-view+json": {
<<<<<<< HEAD
<<<<<<< HEAD
       "model_id": "4160ef545dae4df588a1cdde41d43011",
=======
       "model_id": "9628f30714a04d518a311f99f7d7cb59",
>>>>>>> ed194af (everything is running here! be sure to update hopsworks-api-key.txt file)
=======
       "model_id": "4160ef545dae4df588a1cdde41d43011",
>>>>>>> cc108af (removed the manual setting of the Hopsworks key.)
       "version_major": 2,
       "version_minor": 0
      },
      "text/plain": [
       "Uploading Dataframe: 0.00% |          | Rows 0/1 | Elapsed Time: 00:00 | Remaining Time: ?"
      ]
     },
     "metadata": {},
     "output_type": "display_data"
    },
    {
     "name": "stdout",
     "output_type": "stream",
     "text": [
      "Launching job: air_quality_1_offline_fg_materialization\n",
      "Job started successfully, you can follow the progress at \n",
      "https://c.app.hopsworks.ai/p/1160346/jobs/named/air_quality_1_offline_fg_materialization/executions\n"
     ]
    },
    {
     "data": {
      "text/plain": [
<<<<<<< HEAD
<<<<<<< HEAD
       "(<hsfs.core.job.Job at 0x3041f3190>,\n",
=======
       "(<hsfs.core.job.Job at 0x30fcf3d10>,\n",
>>>>>>> ed194af (everything is running here! be sure to update hopsworks-api-key.txt file)
=======
       "(<hsfs.core.job.Job at 0x3041f3190>,\n",
>>>>>>> cc108af (removed the manual setting of the Hopsworks key.)
       " {\n",
       "   \"success\": true,\n",
       "   \"results\": [\n",
       "     {\n",
       "       \"success\": true,\n",
       "       \"expectation_config\": {\n",
       "         \"expectation_type\": \"expect_column_min_to_be_between\",\n",
       "         \"kwargs\": {\n",
       "           \"column\": \"pm25\",\n",
       "           \"min_value\": -0.1,\n",
       "           \"max_value\": 500.0,\n",
       "           \"strict_min\": true\n",
       "         },\n",
       "         \"meta\": {\n",
       "           \"expectationId\": 664604\n",
       "         }\n",
       "       },\n",
       "       \"result\": {\n",
<<<<<<< HEAD
<<<<<<< HEAD
       "         \"observed_value\": 34.0,\n",
=======
       "         \"observed_value\": 42.0,\n",
>>>>>>> ed194af (everything is running here! be sure to update hopsworks-api-key.txt file)
=======
       "         \"observed_value\": 34.0,\n",
>>>>>>> cc108af (removed the manual setting of the Hopsworks key.)
       "         \"element_count\": 1,\n",
       "         \"missing_count\": null,\n",
       "         \"missing_percent\": null\n",
       "       },\n",
       "       \"meta\": {\n",
       "         \"ingestionResult\": \"INGESTED\",\n",
<<<<<<< HEAD
<<<<<<< HEAD
       "         \"validationTime\": \"2024-11-09T07:44:29.000677Z\"\n",
=======
       "         \"validationTime\": \"2024-11-09T02:56:55.000147Z\"\n",
>>>>>>> ed194af (everything is running here! be sure to update hopsworks-api-key.txt file)
=======
       "         \"validationTime\": \"2024-11-09T07:44:29.000677Z\"\n",
>>>>>>> cc108af (removed the manual setting of the Hopsworks key.)
       "       },\n",
       "       \"exception_info\": {\n",
       "         \"raised_exception\": false,\n",
       "         \"exception_message\": null,\n",
       "         \"exception_traceback\": null\n",
       "       }\n",
       "     }\n",
       "   ],\n",
       "   \"evaluation_parameters\": {},\n",
       "   \"statistics\": {\n",
       "     \"evaluated_expectations\": 1,\n",
       "     \"successful_expectations\": 1,\n",
       "     \"unsuccessful_expectations\": 0,\n",
       "     \"success_percent\": 100.0\n",
       "   },\n",
       "   \"meta\": {\n",
       "     \"great_expectations_version\": \"0.18.12\",\n",
       "     \"expectation_suite_name\": \"aq_expectation_suite\",\n",
       "     \"run_id\": {\n",
       "       \"run_name\": null,\n",
<<<<<<< HEAD
<<<<<<< HEAD
       "       \"run_time\": \"2024-11-09T20:44:29.678046+01:00\"\n",
       "     },\n",
       "     \"batch_kwargs\": {\n",
       "       \"ge_batch_id\": \"08ec6498-9ed3-11ef-b1cb-7ae203a59f64\"\n",
       "     },\n",
       "     \"batch_markers\": {},\n",
       "     \"batch_parameters\": {},\n",
       "     \"validation_time\": \"20241109T194429.677957Z\",\n",
=======
       "       \"run_time\": \"2024-11-09T15:56:55.147354+01:00\"\n",
=======
       "       \"run_time\": \"2024-11-09T20:44:29.678046+01:00\"\n",
>>>>>>> cc108af (removed the manual setting of the Hopsworks key.)
       "     },\n",
       "     \"batch_kwargs\": {\n",
       "       \"ge_batch_id\": \"08ec6498-9ed3-11ef-b1cb-7ae203a59f64\"\n",
       "     },\n",
       "     \"batch_markers\": {},\n",
       "     \"batch_parameters\": {},\n",
<<<<<<< HEAD
       "     \"validation_time\": \"20241109T145655.147287Z\",\n",
>>>>>>> ed194af (everything is running here! be sure to update hopsworks-api-key.txt file)
=======
       "     \"validation_time\": \"20241109T194429.677957Z\",\n",
>>>>>>> cc108af (removed the manual setting of the Hopsworks key.)
       "     \"expectation_suite_meta\": {\n",
       "       \"great_expectations_version\": \"0.18.12\"\n",
       "     }\n",
       "   }\n",
       " })"
      ]
     },
     "execution_count": 8,
     "metadata": {},
     "output_type": "execute_result"
    }
   ],
   "source": [
    "# Insert new data\n",
    "air_quality_fg.insert(aq_today_df)"
   ]
  },
  {
   "cell_type": "code",
   "execution_count": 9,
   "id": "d491b0a0",
   "metadata": {},
   "outputs": [
    {
     "name": "stdout",
     "output_type": "stream",
     "text": [
<<<<<<< HEAD
<<<<<<< HEAD
      "2024-11-09 20:44:40,571 INFO: \t2 expectation(s) included in expectation_suite.\n",
=======
      "2024-11-09 15:57:04,788 INFO: \t2 expectation(s) included in expectation_suite.\n",
>>>>>>> ed194af (everything is running here! be sure to update hopsworks-api-key.txt file)
=======
      "2024-11-09 20:44:40,571 INFO: \t2 expectation(s) included in expectation_suite.\n",
>>>>>>> cc108af (removed the manual setting of the Hopsworks key.)
      "Validation succeeded.\n",
      "Validation Report saved successfully, explore a summary at https://c.app.hopsworks.ai:443/p/1160346/fs/1151049/fg/1339761\n"
     ]
    },
    {
     "data": {
      "application/vnd.jupyter.widget-view+json": {
<<<<<<< HEAD
<<<<<<< HEAD
       "model_id": "8ed2f0776bab44729be67ab52a03424d",
=======
       "model_id": "670f3e1dfe344a03a0d6018b4007d33b",
>>>>>>> ed194af (everything is running here! be sure to update hopsworks-api-key.txt file)
=======
       "model_id": "8ed2f0776bab44729be67ab52a03424d",
>>>>>>> cc108af (removed the manual setting of the Hopsworks key.)
       "version_major": 2,
       "version_minor": 0
      },
      "text/plain": [
       "Uploading Dataframe: 0.00% |          | Rows 0/10 | Elapsed Time: 00:00 | Remaining Time: ?"
      ]
     },
     "metadata": {},
     "output_type": "display_data"
    },
    {
     "name": "stdout",
     "output_type": "stream",
     "text": [
      "Launching job: weather_1_offline_fg_materialization\n",
      "Job started successfully, you can follow the progress at \n",
      "https://c.app.hopsworks.ai/p/1160346/jobs/named/weather_1_offline_fg_materialization/executions\n"
     ]
    },
    {
     "data": {
      "text/plain": [
<<<<<<< HEAD
<<<<<<< HEAD
       "(<hsfs.core.job.Job at 0x1716b6d90>,\n",
=======
       "(<hsfs.core.job.Job at 0x30fc52e10>,\n",
>>>>>>> ed194af (everything is running here! be sure to update hopsworks-api-key.txt file)
=======
       "(<hsfs.core.job.Job at 0x1716b6d90>,\n",
>>>>>>> cc108af (removed the manual setting of the Hopsworks key.)
       " {\n",
       "   \"success\": true,\n",
       "   \"results\": [\n",
       "     {\n",
       "       \"success\": true,\n",
       "       \"expectation_config\": {\n",
       "         \"expectation_type\": \"expect_column_min_to_be_between\",\n",
       "         \"kwargs\": {\n",
       "           \"column\": \"precipitation_sum\",\n",
       "           \"min_value\": -0.1,\n",
       "           \"max_value\": 1000.0,\n",
       "           \"strict_min\": true\n",
       "         },\n",
       "         \"meta\": {\n",
       "           \"expectationId\": 663565\n",
       "         }\n",
       "       },\n",
       "       \"result\": {\n",
       "         \"observed_value\": 0.0,\n",
       "         \"element_count\": 10,\n",
       "         \"missing_count\": null,\n",
       "         \"missing_percent\": null\n",
       "       },\n",
       "       \"meta\": {\n",
       "         \"ingestionResult\": \"INGESTED\",\n",
<<<<<<< HEAD
<<<<<<< HEAD
       "         \"validationTime\": \"2024-11-09T07:44:40.000571Z\"\n",
=======
       "         \"validationTime\": \"2024-11-09T02:57:04.000787Z\"\n",
>>>>>>> ed194af (everything is running here! be sure to update hopsworks-api-key.txt file)
=======
       "         \"validationTime\": \"2024-11-09T07:44:40.000571Z\"\n",
>>>>>>> cc108af (removed the manual setting of the Hopsworks key.)
       "       },\n",
       "       \"exception_info\": {\n",
       "         \"raised_exception\": false,\n",
       "         \"exception_message\": null,\n",
       "         \"exception_traceback\": null\n",
       "       }\n",
       "     },\n",
       "     {\n",
       "       \"success\": true,\n",
       "       \"expectation_config\": {\n",
       "         \"expectation_type\": \"expect_column_min_to_be_between\",\n",
       "         \"kwargs\": {\n",
       "           \"column\": \"wind_speed_10m_max\",\n",
       "           \"min_value\": -0.1,\n",
       "           \"max_value\": 1000.0,\n",
       "           \"strict_min\": true\n",
       "         },\n",
       "         \"meta\": {\n",
       "           \"expectationId\": 663566\n",
       "         }\n",
       "       },\n",
       "       \"result\": {\n",
       "         \"observed_value\": 2.0364675521850586,\n",
       "         \"element_count\": 10,\n",
       "         \"missing_count\": null,\n",
       "         \"missing_percent\": null\n",
       "       },\n",
       "       \"meta\": {\n",
       "         \"ingestionResult\": \"INGESTED\",\n",
<<<<<<< HEAD
<<<<<<< HEAD
       "         \"validationTime\": \"2024-11-09T07:44:40.000571Z\"\n",
=======
       "         \"validationTime\": \"2024-11-09T02:57:04.000787Z\"\n",
>>>>>>> ed194af (everything is running here! be sure to update hopsworks-api-key.txt file)
=======
       "         \"validationTime\": \"2024-11-09T07:44:40.000571Z\"\n",
>>>>>>> cc108af (removed the manual setting of the Hopsworks key.)
       "       },\n",
       "       \"exception_info\": {\n",
       "         \"raised_exception\": false,\n",
       "         \"exception_message\": null,\n",
       "         \"exception_traceback\": null\n",
       "       }\n",
       "     }\n",
       "   ],\n",
       "   \"evaluation_parameters\": {},\n",
       "   \"statistics\": {\n",
       "     \"evaluated_expectations\": 2,\n",
       "     \"successful_expectations\": 2,\n",
       "     \"unsuccessful_expectations\": 0,\n",
       "     \"success_percent\": 100.0\n",
       "   },\n",
       "   \"meta\": {\n",
       "     \"great_expectations_version\": \"0.18.12\",\n",
       "     \"expectation_suite_name\": \"weather_expectation_suite\",\n",
       "     \"run_id\": {\n",
       "       \"run_name\": null,\n",
<<<<<<< HEAD
<<<<<<< HEAD
       "       \"run_time\": \"2024-11-09T20:44:40.571599+01:00\"\n",
       "     },\n",
       "     \"batch_kwargs\": {\n",
       "       \"ge_batch_id\": \"0f6aa74e-9ed3-11ef-b1cb-7ae203a59f64\"\n",
       "     },\n",
       "     \"batch_markers\": {},\n",
       "     \"batch_parameters\": {},\n",
       "     \"validation_time\": \"20241109T194440.571512Z\",\n",
=======
       "       \"run_time\": \"2024-11-09T15:57:04.788142+01:00\"\n",
=======
       "       \"run_time\": \"2024-11-09T20:44:40.571599+01:00\"\n",
>>>>>>> cc108af (removed the manual setting of the Hopsworks key.)
       "     },\n",
       "     \"batch_kwargs\": {\n",
       "       \"ge_batch_id\": \"0f6aa74e-9ed3-11ef-b1cb-7ae203a59f64\"\n",
       "     },\n",
       "     \"batch_markers\": {},\n",
       "     \"batch_parameters\": {},\n",
<<<<<<< HEAD
       "     \"validation_time\": \"20241109T145704.787998Z\",\n",
>>>>>>> ed194af (everything is running here! be sure to update hopsworks-api-key.txt file)
=======
       "     \"validation_time\": \"20241109T194440.571512Z\",\n",
>>>>>>> cc108af (removed the manual setting of the Hopsworks key.)
       "     \"expectation_suite_meta\": {\n",
       "       \"great_expectations_version\": \"0.18.12\"\n",
       "     }\n",
       "   }\n",
       " })"
      ]
     },
     "execution_count": 9,
     "metadata": {},
     "output_type": "execute_result"
    }
   ],
   "source": [
    "# Insert new data\n",
    "weather_fg.insert(daily_df)"
   ]
  },
  {
   "cell_type": "markdown",
   "id": "c83e9e2d",
   "metadata": {},
   "source": [
    "## <span style=\"color:#ff5f27;\">⏭️ **Next:** Part 03: Training Pipeline\n",
    " </span> \n",
    "\n",
    "In the following notebook you will read from a feature group and create training dataset within the feature store\n"
   ]
  }
 ],
 "metadata": {
  "kernelspec": {
   "display_name": "scalable_ml_lab1_env",
   "language": "python",
   "name": "python3"
  },
  "language_info": {
   "codemirror_mode": {
    "name": "ipython",
    "version": 3
   },
   "file_extension": ".py",
   "mimetype": "text/x-python",
   "name": "python",
   "nbconvert_exporter": "python",
   "pygments_lexer": "ipython3",
   "version": "3.11.10"
  }
 },
 "nbformat": 4,
 "nbformat_minor": 5
}
